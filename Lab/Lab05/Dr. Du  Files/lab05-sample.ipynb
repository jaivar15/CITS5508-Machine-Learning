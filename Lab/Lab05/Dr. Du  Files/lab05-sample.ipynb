{
 "cells": [
  {
   "cell_type": "markdown",
   "metadata": {},
   "source": [
    "### CITS5508 labsheet 5\n",
    "\n",
    "Sample code showing how to read the CIFAR-10 data. Only cells 1 and 2 are needed. **Note: For the code to work, all the data batch files should be in the same directory with this Notebook file.**\n",
    "\n",
    "This is only an example. Students should put in their own markdown cells. \n",
    "\n",
    "Rather than looking at the code in the file **<i>data_loader.py</i>**, description about the `DataLoader` class in the file can be viewed using **<i>pydoc</i>**. Try typing the following command in a terminal window (assuming that *data_loader.py* is in the current directory):<br>\n",
    "<tt>\n",
    "&nbsp; &nbsp; pydoc data_loader\n",
    "</tt>\n",
    "\n",
    "To convert this file into **<i>lab05-sample.py</i>**, a Python script file, for running on **Kaya** (the UWA GPU computer), do the following:\n",
    "* If you are using Jupyter-lab, then select **File $>$ Export Notebook As... $>$ Executable Script $>$**. In the popped up window, select **Save File** and click the **OK** button.\n",
    "* If you are using **Jupyter-notebook**, then select **File $>$ Download as $>$ Python (.py)**. Note that the option **Python (.py)** might be hidden. You would need to scroll down the list to see it. In the popped up window, select **Save File** and click the **OK** button.\n",
    "\n",
    "**Author: Du Huynh**<br>\n",
    "**Date: April 2021**"
   ]
  },
  {
   "cell_type": "markdown",
   "metadata": {},
   "source": [
    "#### Step 1: Import the `DataLoader` class"
   ]
  },
  {
   "cell_type": "code",
   "execution_count": 1,
   "metadata": {},
   "outputs": [],
   "source": [
    "from data_loader import DataLoader"
   ]
  },
  {
   "cell_type": "markdown",
   "metadata": {},
   "source": [
    "#### Step 2: Call the `load_batch` function"
   ]
  },
  {
   "cell_type": "code",
   "execution_count": 2,
   "metadata": {},
   "outputs": [],
   "source": [
    "# According to the CIFAR-10 website, the training set is split into five batches\n",
    "# stored in fives files. Each colour image has dimensions equal to 32 x 32 x 3. There\n",
    "# are 10 classes.\n",
    "image_width, image_height, image_Nchannels = 32, 32, 3\n",
    "class_names = ['airplane', 'automobile', 'bird', 'cat', 'deer',\n",
    "               'dog', 'frog', 'horse', 'ship', 'truck']\n",
    "\n",
    "# The default values of all the arguments of the load_batch function have been\n",
    "# set for the CIFAR-10 dataset.\n",
    "X_train, y_train = DataLoader.load_batch('data_batch')\n",
    "X_test, y_test = DataLoader.load_batch('test_batch', Nbatches=1)"
   ]
  },
  {
   "cell_type": "markdown",
   "metadata": {},
   "source": [
    "#### Step 3. A quick inspection of the outputs from the `load_batch` function"
   ]
  },
  {
   "cell_type": "code",
   "execution_count": 3,
   "metadata": {},
   "outputs": [],
   "source": [
    "# You need to split the training set to form a validation set. The original\n",
    "# training set would become smaller."
   ]
  },
  {
   "cell_type": "code",
   "execution_count": 4,
   "metadata": {},
   "outputs": [
    {
     "name": "stdout",
     "output_type": "stream",
     "text": [
      "X_test.shape = (10000, 32, 32, 3) data type: float32\n",
      "y_test.shape = (10000,) data type: uint8\n"
     ]
    }
   ],
   "source": [
    "print('X_test.shape =', X_test.shape, 'data type:', X_test.dtype)\n",
    "print('y_test.shape =', y_test.shape, 'data type:', y_test.dtype)"
   ]
  },
  {
   "cell_type": "code",
   "execution_count": null,
   "metadata": {},
   "outputs": [],
   "source": []
  }
 ],
 "metadata": {
  "kernelspec": {
   "display_name": "Python 3",
   "language": "python",
   "name": "python3"
  },
  "language_info": {
   "codemirror_mode": {
    "name": "ipython",
    "version": 3
   },
   "file_extension": ".py",
   "mimetype": "text/x-python",
   "name": "python",
   "nbconvert_exporter": "python",
   "pygments_lexer": "ipython3",
   "version": "3.8.5"
  }
 },
 "nbformat": 4,
 "nbformat_minor": 4
}
