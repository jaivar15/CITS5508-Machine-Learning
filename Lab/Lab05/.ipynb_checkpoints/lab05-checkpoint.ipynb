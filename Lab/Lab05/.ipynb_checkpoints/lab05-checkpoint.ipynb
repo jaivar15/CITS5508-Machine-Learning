{
 "cells": [
  {
   "cell_type": "markdown",
   "metadata": {},
   "source": [
    "# <center>  CITS5508 ML Lab05 </center>\n",
    "\n",
    "Student Name: **Varun Jain** <br>\n",
    "Student Number: **21963986** <br>\n",
    "Due Date: "
   ]
  },
  {
   "cell_type": "markdown",
   "metadata": {},
   "source": [
    "# Libraries"
   ]
  },
  {
   "cell_type": "code",
   "execution_count": 99,
   "metadata": {},
   "outputs": [],
   "source": [
    "import random\n",
    "import pickle\n",
    "import os.path\n",
    "import numpy as np\n",
    "import tensorflow as tf\n",
    "from tensorflow import keras\n",
    "import matplotlib.pyplot as plt\n",
    "from sklearn.model_selection import train_test_split"
   ]
  },
  {
   "cell_type": "markdown",
   "metadata": {},
   "source": [
    "# Load the Data"
   ]
  },
  {
   "cell_type": "markdown",
   "metadata": {},
   "source": [
    "The following code provided by Dr Du Huynh, will load the dataset and split the dataset into the test and training set."
   ]
  },
  {
   "cell_type": "code",
   "execution_count": 64,
   "metadata": {},
   "outputs": [],
   "source": [
    "class DataLoader:\n",
    "    @staticmethod\n",
    "    def __load_pickle_file(filename):\n",
    "        with open(filename, 'rb') as f:\n",
    "            dict = pickle.load(f, encoding='bytes')\n",
    "            return dict  \n",
    "\n",
    "    @staticmethod\n",
    "    def load_batch(filename_prefix, Nbatches=5, height=32, width=32, Nchannels=3):\n",
    "\n",
    "\n",
    "        if Nbatches == 1:\n",
    "            batch = DataLoader.__load_pickle_file(filename_prefix)\n",
    "            X = np.rollaxis(np.reshape(batch[b'data'], (-1,Nchannels,height,width)),1, 4).astype('float32')\n",
    "            y = np.array(batch[b'labels'], dtype='uint8')\n",
    "        else:\n",
    "            batch_no = range(1, Nbatches+1)  # the batch numbers start at 1\n",
    "            # Read all the batch pickle files\n",
    "            batch = [DataLoader.__load_pickle_file(filename_prefix+'_'+str(b)) for b in batch_no]\n",
    "\n",
    "            batch_size = [len(batch[i][b'labels']) for i in range(Nbatches)]\n",
    "            dataset_size = np.sum(batch_size)\n",
    "    \n",
    "            X = np.zeros((dataset_size, height, width, Nchannels), dtype='float32')\n",
    "            y = np.zeros(dataset_size, dtype='uint8')\n",
    "            loc = 0\n",
    "            for i in range(Nbatches):\n",
    "                X[loc:(loc+batch_size[i])] = np.rollaxis(\n",
    "                    np.reshape(batch[i][b'data'], (-1,Nchannels,height,width)), 1, 4)\n",
    "                y[loc:(loc+batch_size[i])] = batch[i][b'labels']\n",
    "                loc += batch_size[i]\n",
    "        return X/255, y"
   ]
  },
  {
   "cell_type": "code",
   "execution_count": 65,
   "metadata": {},
   "outputs": [],
   "source": [
    "# According to the CIFAR-10 website, the training set is split into five batches\n",
    "# stored in fives files. Each colour image has dimensions equal to 32 x 32 x 3. There are 10 classes.\n",
    "image_width, image_height, image_Nchannels = 32, 32, 3\n",
    "class_names = ['airplane', 'automobile', 'bird', 'cat', 'deer','dog', 'frog', 'horse', 'ship', 'truck']\n",
    "\n",
    "# The default values of all the arguments of the load_batch function have been\n",
    "# set for the CIFAR-10 dataset.\n",
    "X_train, y_train = DataLoader.load_batch('data_batch')\n",
    "X_test, y_test = DataLoader.load_batch('test_batch', Nbatches=1)"
   ]
  },
  {
   "cell_type": "markdown",
   "metadata": {},
   "source": [
    "# Data Split "
   ]
  },
  {
   "cell_type": "markdown",
   "metadata": {},
   "source": [
    "## Training and Test Set\n",
    "The dataset is split into a training and test set. "
   ]
  },
  {
   "cell_type": "code",
   "execution_count": 66,
   "metadata": {},
   "outputs": [
    {
     "name": "stdout",
     "output_type": "stream",
     "text": [
      "Number of training instances: 50000\n",
      "Number of test instances:     10000\n"
     ]
    }
   ],
   "source": [
    "train_set_size = X_train.shape[0]\n",
    "test_set_size = X_test.shape[0]\n",
    "print('Number of training instances:', train_set_size)\n",
    "print('Number of test instances:    ', test_set_size)"
   ]
  },
  {
   "cell_type": "markdown",
   "metadata": {},
   "source": [
    "## Training and Validation Set\n",
    "The training set is broken down into a training set and validation set. The validation set contains 20% of the original training set data, while the remaining training instances are allocated to the training set. "
   ]
  },
  {
   "cell_type": "code",
   "execution_count": 67,
   "metadata": {},
   "outputs": [],
   "source": [
    "x_train, x_val, y_train, y_val = train_test_split(X_train, y_train, test_size=0.2, random_state=42)"
   ]
  },
  {
   "cell_type": "code",
   "execution_count": 68,
   "metadata": {},
   "outputs": [
    {
     "name": "stdout",
     "output_type": "stream",
     "text": [
      "Number of training instances:   40000\n",
      "Number of validation instances: 10000\n"
     ]
    }
   ],
   "source": [
    "train_set_size = x_train.shape[0]\n",
    "validation_set_size = x_val.shape[0]\n",
    "print('Number of training instances:  ', train_set_size)\n",
    "print('Number of validation instances:', test_set_size)"
   ]
  },
  {
   "cell_type": "markdown",
   "metadata": {},
   "source": [
    "# Generate 20 Random Images\n",
    "The following code will generate 20 random images that are present in the dataset. "
   ]
  },
  {
   "cell_type": "code",
   "execution_count": 9,
   "metadata": {},
   "outputs": [],
   "source": [
    "def random_20_images(x_dataset, y_dataset, class_names):\n",
    "    plt.figure(figsize=(12,12))\n",
    "    for i in range(20):\n",
    "        #plot the images side by side\n",
    "        plt.subplot(5,4,i+1)\n",
    "        plt.xticks([])\n",
    "        plt.yticks([])\n",
    "        plt.grid(False)     \n",
    "        #random number choosen that refers to an index value in the dataset\n",
    "        random_image_index = random.randint(0,len(x_dataset)-1)\n",
    "        #finds the image in the dataset with the index randomly specified \n",
    "        image_x_dataset = x_dataset[random_image_index]\n",
    "        #returns the class names for the image \n",
    "        class_name_index = class_names[y_dataset[random_image_index]]\n",
    "        #plots the images \n",
    "        plt.imshow(image_x_dataset, cmap=plt.cm.binary)\n",
    "        plt.xlabel(class_name_index)\n",
    "    plt.show()"
   ]
  },
  {
   "cell_type": "code",
   "execution_count": 16,
   "metadata": {},
   "outputs": [
    {
     "data": {
      "image/png": "[encoded data removed]",
      "text/plain": [
       "<Figure size 864x864 with 20 Axes>"
      ]
     },
     "metadata": {},
     "output_type": "display_data"
    }
   ],
   "source": [
    "#generates random 20 images for the training set \n",
    "random_20_images(x_train, y_train, class_names)"
   ]
  },
  {
   "cell_type": "markdown",
   "metadata": {},
   "source": [
    "# Multilayer Percerption Model"
   ]
  },
  {
   "cell_type": "markdown",
   "metadata": {},
   "source": [
    "### Building the Model"
   ]
  },
  {
   "cell_type": "code",
   "execution_count": 17,
   "metadata": {},
   "outputs": [],
   "source": [
    "model = tf.keras.Sequential([\n",
    "    tf.keras.layers.Flatten(input_shape=[32, 32, 3]),\n",
    "    tf.keras.layers.Dense(300, activation=\"relu\"),\n",
    "    tf.keras.layers.Dense(100, activation=\"relu\"),\n",
    "    tf.keras.layers.Dense(10, activation=\"softmax\")\n",
    "])"
   ]
  },
  {
   "cell_type": "code",
   "execution_count": 18,
   "metadata": {},
   "outputs": [
    {
     "name": "stdout",
     "output_type": "stream",
     "text": [
      "Model: \"sequential_1\"\n",
      "_________________________________________________________________\n",
      "Layer (type)                 Output Shape              Param #   \n",
      "=================================================================\n",
      "flatten_1 (Flatten)          (None, 3072)              0         \n",
      "_________________________________________________________________\n",
      "dense_3 (Dense)              (None, 300)               921900    \n",
      "_________________________________________________________________\n",
      "dense_4 (Dense)              (None, 100)               30100     \n",
      "_________________________________________________________________\n",
      "dense_5 (Dense)              (None, 10)                1010      \n",
      "=================================================================\n",
      "Total params: 953,010\n",
      "Trainable params: 953,010\n",
      "Non-trainable params: 0\n",
      "_________________________________________________________________\n"
     ]
    }
   ],
   "source": [
    "model.summary()"
   ]
  },
  {
   "cell_type": "markdown",
   "metadata": {},
   "source": [
    "### Compile the Model"
   ]
  },
  {
   "cell_type": "code",
   "execution_count": 19,
   "metadata": {},
   "outputs": [],
   "source": [
    "model.compile(loss=\"sparse_categorical_crossentropy\", optimizer=\"sgd\", metrics=[\"accuracy\"])"
   ]
  },
  {
   "cell_type": "markdown",
   "metadata": {},
   "source": [
    "### Train The Model"
   ]
  },
  {
   "cell_type": "code",
   "execution_count": 20,
   "metadata": {},
   "outputs": [
    {
     "name": "stdout",
     "output_type": "stream",
     "text": [
      "1250/1250 [==============================] - 6s 4ms/step - loss: 2.0231 - accuracy: 0.2581 - val_loss: 1.7930 - val_accuracy: 0.3517\n"
     ]
    },
    {
     "data": {
      "text/plain": [
       "<tensorflow.python.keras.callbacks.History at 0x13a3d0ca0>"
      ]
     },
     "execution_count": 20,
     "metadata": {},
     "output_type": "execute_result"
    }
   ],
   "source": [
    "model.fit(x_train, y_train, epochs=100, validation_data=(x_val, y_val))"
   ]
  },
  {
   "cell_type": "markdown",
   "metadata": {},
   "source": [
    "### Evaluate The Model"
   ]
  },
  {
   "cell_type": "code",
   "execution_count": 21,
   "metadata": {},
   "outputs": [
    {
     "name": "stdout",
     "output_type": "stream",
     "text": [
      "313/313 - 0s - loss: 1.7866 - accuracy: 0.3581\n"
     ]
    }
   ],
   "source": [
    "test_loss, test_acc = model.evaluate(X_test,  y_test, verbose=2)\n",
    "#loss: 2.1261 - accuracy: 0.5146"
   ]
  },
  {
   "cell_type": "markdown",
   "metadata": {},
   "source": [
    "## Training Model with Hyperparameters"
   ]
  },
  {
   "cell_type": "markdown",
   "metadata": {},
   "source": [
    "### Connection Weight Initialisation"
   ]
  },
  {
   "cell_type": "code",
   "execution_count": 24,
   "metadata": {},
   "outputs": [],
   "source": [
    "def create_model(init_mode):\n",
    "    model = tf.keras.Sequential([\n",
    "    tf.kera ation_data=(x_val, y_val))\n",
    "    \n",
    "    test_loss, test_acc = model.evaluate(X_test,  y_test, verbose=2)\n",
    "    return test_loss, test_acc"
   ]
  },
  {
   "cell_type": "code",
   "execution_count": 28,
   "metadata": {},
   "outputs": [],
   "source": [
    "model_glorot_uniform_loss, model_glorot_uniform_accuracy = create_model(\"glorot_uniform\")\n",
    "print(f\"glorot_uniform_loss: {model_glorot_uniform_loss}, glorot_uniform_accuracy: {model_glorot_uniform_accuracy}\")"
   ]
  },
  {
   "cell_type": "code",
   "execution_count": 30,
   "metadata": {},
   "outputs": [],
   "source": [
    "model_he_uniform_loss, model_he_uniform_accuracy = create_model(\"he_uniform\")\n",
    "print(f\"he_uniform_loss: {model_he_uniform_loss}, he_uniform_accuracy: {model_he_uniform_accuracy}\")"
   ]
  },
  {
   "cell_type": "markdown",
   "metadata": {},
   "source": [
    "glorot_uniform_loss: 2.107808828353882, glorot_uniform_accuracy: 0.5199999809265137 <br>\n",
    "he_uniform_loss: 2.143559455871582, he_uniform_accuracy: 0.51419997215271"
   ]
  },
  {
   "cell_type": "code",
   "execution_count": null,
   "metadata": {},
   "outputs": [],
   "source": [
    "#model_glorot_normal_loss, model_glorot_normal_accuracy = create_model(\"glorot_normal\")\n",
    "#print(f\"glorot_normal_loss: {model_glorot_normal_loss}, glorot_normal_accuracy: {model_glorot_normal_accuracy}\")"
   ]
  },
  {
   "cell_type": "code",
   "execution_count": null,
   "metadata": {},
   "outputs": [],
   "source": [
    "#model_he_normal_loss, model_he_normal_accuracy = create_model(\"he_normal\")\n",
    "#print(f\"he_normal_loss: {model_glorot_normal_loss}, he_normal_accuracy: {model_glorot_normal_accuracy}\")"
   ]
  },
  {
   "cell_type": "markdown",
   "metadata": {},
   "source": [
    "### Learning Rate Scheduling"
   ]
  },
  {
   "cell_type": "code",
   "execution_count": 31,
   "metadata": {},
   "outputs": [],
   "source": [
    "def exponential_decay(lr0, s):\n",
    "    def exponential_decay_fn(epoch):\n",
    "        return lr0 * 0.1**(epoch / s)\n",
    "    return exponential_decay_fn"
   ]
  },
  {
   "cell_type": "code",
   "execution_count": 33,
   "metadata": {},
   "outputs": [],
   "source": [
    "def create_optimizer_model_exponential(optimizer):\n",
    "    model = tf.keras.Sequential([\n",
    "    tf.keras.layers.Flatten(input_shape=[32, 32, 3]),\n",
    "    tf.keras.layers.Dense(300, activation=\"relu\"),\n",
    "    tf.keras.layers.Dense(100, activation=\"relu\"),\n",
    "    tf.keras.layers.Dense(10, activation=\"softmax\")])\n",
    "    \n",
    "    model.summary()\n",
    "    \n",
    "    model.compile(loss=\"sparse_categorical_crossentropy\", optimizer=\"sgd\", metrics=[\"accuracy\"])\n",
    "    \n",
    "    lr_scheduler = keras.callbacks.LearningRateScheduler(optimizer)\n",
    "    model.fit(x_train, y_train, epochs=100, validation_data=(x_val, y_val),callbacks=[lr_scheduler])\n",
    "    \n",
    "    test_loss, test_acc = model.evaluate(X_test,  y_test, verbose=2)\n",
    "    return test_loss, test_acc"
   ]
  },
  {
   "cell_type": "code",
   "execution_count": null,
   "metadata": {},
   "outputs": [],
   "source": [
    "exponential_decay_fn = exponential_decay(lr0=0.01, s=20)\n",
    "exponential_loss, exponential_accuracy = create_optimizer_model_exponential(exponential_decay_fn)\n",
    "print(f\"Explonential_Loss: {exponential_loss}, Exponential_accuracy: {exponential_accuracy}\")"
   ]
  },
  {
   "cell_type": "code",
   "execution_count": 58,
   "metadata": {},
   "outputs": [],
   "source": [
    "optimizer = keras.optimizers.SGD(lr=0.01, decay=1e-4)"
   ]
  },
  {
   "cell_type": "code",
   "execution_count": 41,
   "metadata": {},
   "outputs": [],
   "source": [
    "def create_optimizer_model_Power_Scheduling(optimizer):\n",
    "    model = tf.keras.Sequential([\n",
    "    tf.keras.layers.Flatten(input_shape=[32, 32, 3]),\n",
    "    tf.keras.layers.Dense(300, activation=\"relu\"),\n",
    "    tf.keras.layers.Dense(100, activation=\"relu\"),\n",
    "    tf.keras.layers.Dense(10, activation=\"softmax\")])\n",
    "    \n",
    "    model.summary()\n",
    "    \n",
    "    model.compile(loss=\"sparse_categorical_crossentropy\", optimizer=optimizer, metrics=[\"accuracy\"])\n",
    "    \n",
    "    model.fit(x_train, y_train, epochs=100, validation_data=(x_val, y_val))\n",
    "    \n",
    "    test_loss, test_acc = model.evaluate(X_test,  y_test, verbose=2)\n",
    "    return test_loss, test_acc"
   ]
  },
  {
   "cell_type": "code",
   "execution_count": 43,
   "metadata": {},
   "outputs": [],
   "source": [
    "power_scheduling_loss, power_scheduling_accuracy = create_optimizer_model_Power_Scheduling(optimizer)\n",
    "print(f\"power_scheduling_loss:{power_scheduling_loss}, power_scheduling_accuracy:{power_scheduling_accuracy}\")"
   ]
  },
  {
   "cell_type": "markdown",
   "metadata": {},
   "source": [
    "Explonential_Loss: 1.3728209733963013, Exponential_accuracy: 0.5192000269889832 <br>\n",
    "power_scheduling_loss:1.354775309562683, power_scheduling_accuracy:0.5304999947547913"
   ]
  },
  {
   "cell_type": "markdown",
   "metadata": {},
   "source": [
    "### Dropout Rate"
   ]
  },
  {
   "cell_type": "code",
   "execution_count": 44,
   "metadata": {},
   "outputs": [],
   "source": [
    "def create_model_for_dropout_rate(dropout_rate):\n",
    "    model = tf.keras.Sequential([\n",
    "    tf.keras.layers.Flatten(input_shape=[32, 32, 3]),\n",
    "    tf.keras.layers.Dropout(rate=dropout_rate),\n",
    "    tf.keras.layers.Dense(300, activation=\"relu\"),\n",
    "    tf.keras.layers.Dropout(rate=dropout_rate),\n",
    "    tf.keras.layers.Dense(100, activation=\"relu\"),\n",
    "    tf.keras.layers.Dropout(rate=dropout_rate),\n",
    "    tf.keras.layers.Dense(10, activation=\"softmax\")])\n",
    "    \n",
    "    model.summary()\n",
    "    \n",
    "    model.compile(loss=\"sparse_categorical_crossentropy\", optimizer=\"sgd\", metrics=[\"accuracy\"])\n",
    "    \n",
    "    model.fit(x_train, y_train, epochs=100, validation_data=(x_val, y_val))\n",
    "    \n",
    "    test_loss, test_acc = model.evaluate(X_test,  y_test, verbose=2)\n",
    "    return test_loss, test_acc"
   ]
  },
  {
   "cell_type": "code",
   "execution_count": 46,
   "metadata": {},
   "outputs": [],
   "source": [
    "dropout_rate_model_one = 0.2\n",
    "dropout_rate_model_one_loss, dropout_rate_model_one_accuracy = create_model_for_dropout_rate(dropout_rate_model_one)\n",
    "dropout_rate_model_two = 0.3\n",
    "dropout_rate_model_two_loss, dropout_rate_model_two_accuracy = create_model_for_dropout_rate(dropout_rate_model_two)"
   ]
  },
  {
   "cell_type": "code",
   "execution_count": null,
   "metadata": {},
   "outputs": [],
   "source": [
    "print(f\"dropout_rate_model_one_loss: {dropout_rate_model_one_loss},dropout_rate_model_one_accuracy{dropout_rate_model_one_accuracy}\")\n",
    "print(f\"dropout_rate_model_two_loss:{dropout_rate_model_two_loss}, dropout_rate_model_two_accuracy:{dropout_rate_model_two_accuracy}\")"
   ]
  },
  {
   "cell_type": "markdown",
   "metadata": {},
   "source": [
    "dropout_rate_model_one_loss: 1.2998965978622437,dropout_rate_model_one_accuracy0.5374000072479248 <br>\n",
    "dropout_rate_model_two_loss:1.3577566146850586, dropout_rate_model_two_accuracy:0.5102999806404114"
   ]
  },
  {
   "cell_type": "markdown",
   "metadata": {},
   "source": [
    "### Early Stopping"
   ]
  },
  {
   "cell_type": "code",
   "execution_count": 55,
   "metadata": {},
   "outputs": [],
   "source": [
    "def create_model_for_early_stopping(early_stopping_patience):\n",
    "    model = tf.keras.Sequential([\n",
    "    tf.keras.layers.Flatten(input_shape=[32, 32, 3]),\n",
    "    tf.keras.layers.Dense(300, activation=\"relu\"),\n",
    "    tf.keras.layers.Dense(100, activation=\"relu\"),\n",
    "    tf.keras.layers.Dense(10, activation=\"softmax\")])\n",
    "    \n",
    "    model.summary()\n",
    "    \n",
    "    model.compile(loss=\"sparse_categorical_crossentropy\", optimizer=\"sgd\", metrics=[\"accuracy\"])\n",
    "    early_stopping_cb = keras.callbacks.EarlyStopping(patience=early_stopping_patience)\n",
    "    model.fit(x_train, y_train, epochs=100, validation_data=(x_val, y_val), callbacks=[early_stopping_cb])\n",
    "    \n",
    "    test_loss, test_acc = model.evaluate(X_test,  y_test, verbose=2)\n",
    "    return test_loss, test_acc"
   ]
  },
  {
   "cell_type": "code",
   "execution_count": 56,
   "metadata": {},
   "outputs": [],
   "source": [
    "early_stop_model_one_loss, early_stop_model_one_accuracy= create_model_for_early_stopping(4)"
   ]
  },
  {
   "cell_type": "code",
   "execution_count": null,
   "metadata": {},
   "outputs": [],
   "source": [
    "early_stop_model_two_loss, early_stop_model_two_accuracy= create_model_for_early_stopping(6)"
   ]
  },
  {
   "cell_type": "code",
   "execution_count": 57,
   "metadata": {},
   "outputs": [
    {
     "ename": "NameError",
     "evalue": "name 'early_stop_model_one_loss' is not defined",
     "output_type": "error",
     "traceback": [
      "\u001b[0;31m---------------------------------------------------------------------------\u001b[0m",
      "\u001b[0;31mNameError\u001b[0m                                 Traceback (most recent call last)",
      "\u001b[0;32m<ipython-input-57-8e717fdd163b>\u001b[0m in \u001b[0;36m<module>\u001b[0;34m\u001b[0m\n\u001b[0;32m----> 1\u001b[0;31m \u001b[0mprint\u001b[0m\u001b[0;34m(\u001b[0m\u001b[0;34mf\"early_stop_model_one_loss: {early_stop_model_one_loss}, early_stop_model_one_accuracy: {early_stop_model_one_accuracy}\"\u001b[0m\u001b[0;34m)\u001b[0m\u001b[0;34m\u001b[0m\u001b[0;34m\u001b[0m\u001b[0m\n\u001b[0m\u001b[1;32m      2\u001b[0m \u001b[0mprint\u001b[0m\u001b[0;34m(\u001b[0m\u001b[0;34mf\"early_stop_model_two_loss: {early_stop_model_two_loss}, early_stop_model_two_accuracy: {early_stop_model_two_accuracy}\"\u001b[0m\u001b[0;34m)\u001b[0m\u001b[0;34m\u001b[0m\u001b[0;34m\u001b[0m\u001b[0m\n",
      "\u001b[0;31mNameError\u001b[0m: name 'early_stop_model_one_loss' is not defined"
     ]
    }
   ],
   "source": [
    "print(f\"early_stop_model_one_loss: {early_stop_model_one_loss}, early_stop_model_one_accuracy: {early_stop_model_one_accuracy}\")\n",
    "print(f\"early_stop_model_two_loss: {early_stop_model_two_loss}, early_stop_model_two_accuracy: {early_stop_model_two_accuracy}\")"
   ]
  },
  {
   "cell_type": "markdown",
   "metadata": {},
   "source": [
    "early_stop_model_one_loss: 1.40736722946167, early_stop_model_one_accuracy: 0.5080999732017517 <br>\n",
    "early_stop_model_two_loss: 1.3636034727096558, early_stop_model_two_accuracy: 0.5299999713897705"
   ]
  },
  {
   "cell_type": "markdown",
   "metadata": {},
   "source": [
    "### Final Architecture"
   ]
  },
  {
   "cell_type": "code",
   "execution_count": 69,
   "metadata": {},
   "outputs": [],
   "source": [
    "power_scheduling_optimizer = keras.optimizers.SGD(lr=0.01, decay=1e-4)"
   ]
  },
  {
   "cell_type": "code",
   "execution_count": 90,
   "metadata": {},
   "outputs": [],
   "source": [
    "def MLP_Final_Architecture(init_mode, optimizer, dropout_rate, early_stopping_patience):\n",
    "    model = tf.keras.Sequential([\n",
    "    tf.keras.layers.Flatten(input_shape=[32, 32, 3]),\n",
    "    tf.keras.layers.Dropout(rate=dropout_rate),\n",
    "    tf.keras.layers.Dense(300, activation=\"relu\", kernel_initializer=init_mode),\n",
    "    tf.keras.layers.Dropout(rate=dropout_rate),\n",
    "    tf.keras.layers.Dense(100, activation=\"relu\", kernel_initializer=init_mode),\n",
    "    tf.keras.layers.Dropout(rate=dropout_rate),\n",
    "    tf.keras.layers.Dense(10, activation=\"softmax\", kernel_initializer=init_mode)])\n",
    "    \n",
    "    model.summary()\n",
    "    \n",
    "    model.compile(loss=\"sparse_categorical_crossentropy\", optimizer=optimizer, metrics=[\"accuracy\"])\n",
    "    early_stopping_cb = keras.callbacks.EarlyStopping(patience=early_stopping_patience)\n",
    "    checkpoint_cb = keras.callbacks.ModelCheckpoint(\"my_keras_model.h5\", save_best_only=True)\n",
    "    model.fit(x_train, y_train, epochs=5, validation_data=(x_val, y_val), callbacks=[early_stopping_cb, checkpoint_cb])\n",
    "    return model"
   ]
  },
  {
   "cell_type": "code",
   "execution_count": 82,
   "metadata": {},
   "outputs": [
    {
     "name": "stdout",
     "output_type": "stream",
     "text": [
      "INFO:tensorflow:Assets written to: MLP_model/assets\n"
     ]
    }
   ],
   "source": []
  },
  {
   "cell_type": "code",
   "execution_count": 98,
   "metadata": {},
   "outputs": [
    {
     "ename": "NameError",
     "evalue": "name 'os' is not defined",
     "output_type": "error",
     "traceback": [
      "\u001b[0;31m---------------------------------------------------------------------------\u001b[0m",
      "\u001b[0;31mNameError\u001b[0m                                 Traceback (most recent call last)",
      "\u001b[0;32m<ipython-input-98-2159506645ad>\u001b[0m in \u001b[0;36m<module>\u001b[0;34m\u001b[0m\n\u001b[0;32m----> 1\u001b[0;31m \u001b[0;32mif\u001b[0m \u001b[0mos\u001b[0m\u001b[0;34m.\u001b[0m\u001b[0mpath\u001b[0m\u001b[0;34m.\u001b[0m\u001b[0misfile\u001b[0m\u001b[0;34m(\u001b[0m\u001b[0;34m'mlp_model'\u001b[0m\u001b[0;34m)\u001b[0m\u001b[0;34m:\u001b[0m\u001b[0;34m\u001b[0m\u001b[0;34m\u001b[0m\u001b[0m\n\u001b[0m\u001b[1;32m      2\u001b[0m     \u001b[0mmodel_final_MLP\u001b[0m \u001b[0;34m=\u001b[0m \u001b[0mload_model\u001b[0m\u001b[0;34m(\u001b[0m\u001b[0;34m\"mlp_model\"\u001b[0m\u001b[0;34m)\u001b[0m\u001b[0;34m\u001b[0m\u001b[0;34m\u001b[0m\u001b[0m\n\u001b[1;32m      3\u001b[0m     \u001b[0mmodel_final_MLP\u001b[0m\u001b[0;34m.\u001b[0m\u001b[0msummary\u001b[0m\u001b[0;34m(\u001b[0m\u001b[0;34m)\u001b[0m\u001b[0;34m\u001b[0m\u001b[0;34m\u001b[0m\u001b[0m\n\u001b[1;32m      4\u001b[0m     \u001b[0mmodel_final_MLP\u001b[0m\u001b[0;34m.\u001b[0m\u001b[0mfit\u001b[0m\u001b[0;34m(\u001b[0m\u001b[0mx_train\u001b[0m\u001b[0;34m,\u001b[0m \u001b[0my_train\u001b[0m\u001b[0;34m,\u001b[0m \u001b[0mepochs\u001b[0m\u001b[0;34m=\u001b[0m\u001b[0;36m1\u001b[0m\u001b[0;34m,\u001b[0m \u001b[0mvalidation_data\u001b[0m\u001b[0;34m=\u001b[0m\u001b[0;34m(\u001b[0m\u001b[0mx_val\u001b[0m\u001b[0;34m,\u001b[0m \u001b[0my_val\u001b[0m\u001b[0;34m)\u001b[0m\u001b[0;34m)\u001b[0m\u001b[0;34m\u001b[0m\u001b[0;34m\u001b[0m\u001b[0m\n\u001b[1;32m      5\u001b[0m \u001b[0;32melse\u001b[0m\u001b[0;34m:\u001b[0m\u001b[0;34m\u001b[0m\u001b[0;34m\u001b[0m\u001b[0m\n",
      "\u001b[0;31mNameError\u001b[0m: name 'os' is not defined"
     ]
    }
   ],
   "source": [
    "if os.path.isfile('mlp_model'):\n",
    "    model_final_MLP = load_model(\"mlp_model\")\n",
    "    model_final_MLP.summary()\n",
    "    model_final_MLP.fit(x_train, y_train, epochs=1, validation_data=(x_val, y_val))\n",
    "else:\n",
    "    model_final_MLP = MLP_Final_Architecture(\"glorot_uniform\",power_scheduling_optimizer,0.2,6)\n",
    "    \n",
    "test_loss, test_acc = model.evaluate(X_test,  y_test, verbose=2)\n"
   ]
  },
  {
   "cell_type": "code",
   "execution_count": null,
   "metadata": {},
   "outputs": [],
   "source": []
  }
 ],
 "metadata": {
  "kernelspec": {
   "display_name": "Python 3",
   "language": "python",
   "name": "python3"
  },
  "language_info": {
   "codemirror_mode": {
    "name": "ipython",
    "version": 3
   },
   "file_extension": ".py",
   "mimetype": "text/x-python",
   "name": "python",
   "nbconvert_exporter": "python",
   "pygments_lexer": "ipython3",
   "version": "3.8.5"
  }
 },
 "nbformat": 4,
 "nbformat_minor": 4
}
